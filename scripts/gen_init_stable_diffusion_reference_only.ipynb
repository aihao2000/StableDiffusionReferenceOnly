{
 "cells": [
  {
   "cell_type": "code",
   "execution_count": 1,
   "metadata": {},
   "outputs": [],
   "source": [
    "import diffusers\n",
    "from diffusers import UNet2DConditionModel\n",
    "from PIL import Image\n",
    "import sys\n",
    "from transformers import CLIPVisionModel, CLIPImageProcessor\n",
    "\n",
    "sys.path.append(\"/home/aihao/workspace/StableDiffusionReferenceOnly/src\")\n",
    "from stable_diffusion_reference_only.pipelines.stable_diffusion_reference_only_pipeline import (\n",
    "    StableDiffusionReferenceOnlyPipeline,\n",
    ")\n",
    "from stable_diffusion_reference_only.models.dobule_condition_unet import (\n",
    "    UNet2DDobuleConditionModel,\n",
    ")\n",
    "from diffusers.schedulers import DDPMScheduler\n",
    "import json\n",
    "from torchsummary import summary"
   ]
  },
  {
   "cell_type": "code",
   "execution_count": 2,
   "metadata": {},
   "outputs": [],
   "source": [
    "with open(\n",
    "    \"/home/aihao/workspace/StableDiffusionReferenceOnly/src/stable_diffusion_reference_only/models/unet2.json\"\n",
    ") as f:\n",
    "    unet_config = json.load(f)"
   ]
  },
  {
   "cell_type": "code",
   "execution_count": 3,
   "metadata": {},
   "outputs": [
    {
     "data": {
      "text/plain": [
       "{'_class_name': 'UNet2DConditionModel',\n",
       " '_diffusers_version': '0.21.0.dev0',\n",
       " '_name_or_path': 'unet',\n",
       " 'act_fn': 'silu',\n",
       " 'addition_embed_type': None,\n",
       " 'addition_embed_type_num_heads': 64,\n",
       " 'addition_time_embed_dim': None,\n",
       " 'attention_head_dim': [5, 10, 20],\n",
       " 'attention_type': 'default',\n",
       " 'block_out_channels': [320, 640, 1280],\n",
       " 'center_input_sample': False,\n",
       " 'class_embed_type': None,\n",
       " 'class_embeddings_concat': False,\n",
       " 'conv_in_kernel': 3,\n",
       " 'conv_out_kernel': 3,\n",
       " 'cross_attention_dim': 1664,\n",
       " 'cross_attention_norm': None,\n",
       " 'down_block_types': ['CrossAttnDownBlock2D',\n",
       "  'CrossAttnDownBlock2D',\n",
       "  'CrossAttnDownBlock2D'],\n",
       " 'downsample_padding': 1,\n",
       " 'dual_cross_attention': False,\n",
       " 'encoder_hid_dim': None,\n",
       " 'encoder_hid_dim_type': None,\n",
       " 'flip_sin_to_cos': True,\n",
       " 'freq_shift': 0,\n",
       " 'in_channels': 4,\n",
       " 'layers_per_block': 2,\n",
       " 'mid_block_only_cross_attention': None,\n",
       " 'mid_block_scale_factor': 1,\n",
       " 'mid_block_type': 'UNetMidBlock2DCrossAttn',\n",
       " 'norm_eps': 1e-05,\n",
       " 'norm_num_groups': 32,\n",
       " 'num_attention_heads': None,\n",
       " 'num_class_embeds': None,\n",
       " 'only_cross_attention': False,\n",
       " 'out_channels': 4,\n",
       " 'projection_class_embeddings_input_dim': None,\n",
       " 'resnet_out_scale_factor': 1.0,\n",
       " 'resnet_skip_time_act': False,\n",
       " 'resnet_time_scale_shift': 'default',\n",
       " 'sample_size': 128,\n",
       " 'time_cond_proj_dim': None,\n",
       " 'time_embedding_act_fn': None,\n",
       " 'time_embedding_dim': None,\n",
       " 'time_embedding_type': 'positional',\n",
       " 'timestep_post_act': None,\n",
       " 'transformer_layers_per_block': [1, 2, 4],\n",
       " 'up_block_types': ['CrossAttnUpBlock2D',\n",
       "  'CrossAttnUpBlock2D',\n",
       "  'CrossAttnUpBlock2D'],\n",
       " 'upcast_attention': False,\n",
       " 'use_linear_projection': True}"
      ]
     },
     "execution_count": 3,
     "metadata": {},
     "output_type": "execute_result"
    }
   ],
   "source": [
    "unet_config"
   ]
  },
  {
   "cell_type": "code",
   "execution_count": 4,
   "metadata": {},
   "outputs": [],
   "source": [
    "unet=UNet2DDobuleConditionModel.from_config(unet_config)"
   ]
  },
  {
   "cell_type": "code",
   "execution_count": 7,
   "metadata": {},
   "outputs": [],
   "source": [
    "# vae = diffusers.AutoencoderKL.from_pretrained(\"stabilityai/sdxl-vae\")\n",
    "vae = diffusers.AutoencoderKL.from_pretrained(\n",
    "    \"stabilityai/stable-diffusion-2-1\", subfolder=\"vae\"\n",
    ")"
   ]
  },
  {
   "cell_type": "code",
   "execution_count": 8,
   "metadata": {},
   "outputs": [
    {
     "data": {
      "application/vnd.jupyter.widget-view+json": {
       "model_id": "48421e80ec4645bcae1d77b409c3a728",
       "version_major": 2,
       "version_minor": 0
      },
      "text/plain": [
       "Loading checkpoint shards:   0%|          | 0/2 [00:00<?, ?it/s]"
      ]
     },
     "metadata": {},
     "output_type": "display_data"
    }
   ],
   "source": [
    "image_encoder = CLIPVisionModel.from_pretrained(\n",
    "    \"laion/CLIP-ViT-bigG-14-laion2B-39B-b160k\"\n",
    ")"
   ]
  },
  {
   "cell_type": "code",
   "execution_count": 9,
   "metadata": {},
   "outputs": [],
   "source": [
    "clip_image_processor = CLIPImageProcessor.from_pretrained(\n",
    "    \"laion/CLIP-ViT-bigG-14-laion2B-39B-b160k\"\n",
    ")"
   ]
  },
  {
   "cell_type": "code",
   "execution_count": 10,
   "metadata": {},
   "outputs": [],
   "source": [
    "scheduler = DDPMScheduler.from_pretrained(\n",
    "    \"stabilityai/stable-diffusion-xl-base-1.0\", subfolder=\"scheduler\"\n",
    ")"
   ]
  },
  {
   "cell_type": "code",
   "execution_count": 11,
   "metadata": {},
   "outputs": [],
   "source": [
    "pipe = StableDiffusionReferenceOnlyPipeline(\n",
    "    vae, image_encoder, clip_image_processor, unet, scheduler\n",
    ")"
   ]
  },
  {
   "cell_type": "code",
   "execution_count": null,
   "metadata": {},
   "outputs": [],
   "source": [
    "pipe.save_pretrained(\n",
    "    \"/home/aihao/workspace/DeepLearningContent/models/sd_reference_only/init2\"\n",
    ")"
   ]
  },
  {
   "cell_type": "code",
   "execution_count": null,
   "metadata": {},
   "outputs": [],
   "source": []
  }
 ],
 "metadata": {
  "kernelspec": {
   "display_name": "torch",
   "language": "python",
   "name": "python3"
  },
  "language_info": {
   "codemirror_mode": {
    "name": "ipython",
    "version": 3
   },
   "file_extension": ".py",
   "mimetype": "text/x-python",
   "name": "python",
   "nbconvert_exporter": "python",
   "pygments_lexer": "ipython3",
   "version": "3.11.4"
  },
  "orig_nbformat": 4
 },
 "nbformat": 4,
 "nbformat_minor": 2
}
