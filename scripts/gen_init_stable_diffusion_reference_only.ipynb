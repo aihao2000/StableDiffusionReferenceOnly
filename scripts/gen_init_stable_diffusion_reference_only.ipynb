{
 "cells": [
  {
   "cell_type": "code",
   "execution_count": null,
   "metadata": {},
   "outputs": [],
   "source": [
    "import diffusers\n",
    "from diffusers import UNet2DConditionModel\n",
    "from PIL import Image\n",
    "import sys\n",
    "from transformers import CLIPVisionModel, CLIPImageProcessor\n",
    "\n",
    "sys.path.append(\"/home/aihao/workspace/StableDiffusionReferenceOnly/src\")\n",
    "from stable_diffusion_reference_only.pipelines.stable_diffusion_reference_only_pipeline import (\n",
    "    StableDiffusionReferenceOnlyPipeline,\n",
    ")\n",
    "from stable_diffusion_reference_only.models.unet_2d_dobule_condition import (\n",
    "    UNet2DDobuleConditionModel,\n",
    ")\n",
    "from diffusers.schedulers import DDPMScheduler\n",
    "import json\n",
    "from torchsummary import summary"
   ]
  },
  {
   "cell_type": "code",
   "execution_count": null,
   "metadata": {},
   "outputs": [],
   "source": [
    "with open(\n",
    "    \"/home/aihao/workspace/StableDiffusionReferenceOnly/src/stable_diffusion_reference_only/models/unet.json\"\n",
    ") as f:\n",
    "    unet_config = json.load(f)"
   ]
  },
  {
   "cell_type": "code",
   "execution_count": null,
   "metadata": {},
   "outputs": [],
   "source": [
    "unet_config"
   ]
  },
  {
   "cell_type": "code",
   "execution_count": null,
   "metadata": {},
   "outputs": [],
   "source": [
    "unet=UNet2DDobuleConditionModel.from_config(unet_config)"
   ]
  },
  {
   "cell_type": "code",
   "execution_count": null,
   "metadata": {},
   "outputs": [],
   "source": [
    "sdxl_unet = UNet2DConditionModel.from_pretrained(\n",
    "    \"stabilityai/stable-diffusion-xl-base-1.0\", subfolder=\"unet\"\n",
    ")"
   ]
  },
  {
   "cell_type": "code",
   "execution_count": null,
   "metadata": {},
   "outputs": [],
   "source": [
    "unet_parameters = unet.state_dict()\n",
    "sdxl_unet_parameters = sdxl_unet.state_dict()"
   ]
  },
  {
   "cell_type": "code",
   "execution_count": null,
   "metadata": {},
   "outputs": [],
   "source": [
    "for key in unet_parameters:\n",
    "    if key in sdxl_unet_parameters:\n",
    "        if unet_parameters[key].shape == sdxl_unet_parameters[key].shape:\n",
    "            unet_parameters[key] = sdxl_unet_parameters[key]\n",
    "        else:\n",
    "            unet_parameters[key] = sdxl_unet_parameters[key][\n",
    "                0 : unet_parameters[key].shape[0],\n",
    "                0 : unet_parameters[key].shape[1],\n",
    "            ]"
   ]
  },
  {
   "cell_type": "code",
   "execution_count": null,
   "metadata": {},
   "outputs": [],
   "source": [
    "unet.load_state_dict(unet_parameters)"
   ]
  },
  {
   "cell_type": "code",
   "execution_count": null,
   "metadata": {},
   "outputs": [],
   "source": [
    "# vae = diffusers.AutoencoderKL.from_pretrained(\"stabilityai/sdxl-vae\")\n",
    "vae = diffusers.AutoencoderKL.from_pretrained(\n",
    "    \"stabilityai/stable-diffusion-2-1\", subfolder=\"vae\"\n",
    ")"
   ]
  },
  {
   "cell_type": "code",
   "execution_count": null,
   "metadata": {},
   "outputs": [],
   "source": [
    "image_encoder = CLIPVisionModel.from_pretrained(\n",
    "    \"laion/CLIP-ViT-bigG-14-laion2B-39B-b160k\"\n",
    ")"
   ]
  },
  {
   "cell_type": "code",
   "execution_count": null,
   "metadata": {},
   "outputs": [],
   "source": [
    "clip_image_processor = CLIPImageProcessor.from_pretrained(\n",
    "    \"laion/CLIP-ViT-bigG-14-laion2B-39B-b160k\"\n",
    ")"
   ]
  },
  {
   "cell_type": "code",
   "execution_count": null,
   "metadata": {},
   "outputs": [],
   "source": [
    "scheduler = DDPMScheduler.from_pretrained(\n",
    "    \"stabilityai/stable-diffusion-xl-base-1.0\", subfolder=\"scheduler\"\n",
    ")"
   ]
  },
  {
   "cell_type": "code",
   "execution_count": null,
   "metadata": {},
   "outputs": [],
   "source": [
    "pipe = StableDiffusionReferenceOnlyPipeline(\n",
    "    vae, image_encoder, clip_image_processor, unet, scheduler\n",
    ")"
   ]
  },
  {
   "cell_type": "code",
   "execution_count": null,
   "metadata": {},
   "outputs": [],
   "source": [
    "pipe.save_pretrained(\n",
    "    \"/home/aihao/workspace/DeepLearningContent/models/sd_reference_only/init\"\n",
    ")"
   ]
  }
 ],
 "metadata": {
  "kernelspec": {
   "display_name": "torch",
   "language": "python",
   "name": "python3"
  },
  "language_info": {
   "codemirror_mode": {
    "name": "ipython",
    "version": 3
   },
   "file_extension": ".py",
   "mimetype": "text/x-python",
   "name": "python",
   "nbconvert_exporter": "python",
   "pygments_lexer": "ipython3",
   "version": "3.11.3"
  },
  "orig_nbformat": 4
 },
 "nbformat": 4,
 "nbformat_minor": 2
}
