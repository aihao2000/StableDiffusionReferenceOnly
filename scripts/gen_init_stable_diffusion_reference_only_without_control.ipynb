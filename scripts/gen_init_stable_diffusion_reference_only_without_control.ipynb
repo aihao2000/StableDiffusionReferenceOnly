{
 "cells": [
  {
   "cell_type": "code",
   "execution_count": null,
   "metadata": {},
   "outputs": [],
   "source": [
    "import diffusers\n",
    "from diffusers import UNet2DConditionModel\n",
    "from PIL import Image\n",
    "import sys\n",
    "from transformers import CLIPVisionModel, CLIPImageProcessor\n",
    "import torch\n",
    "\n",
    "sys.path.append(\"/home/aihao/workspace/StableDiffusionReferenceOnly/src\")\n",
    "from stable_diffusion_reference_only.pipelines.stable_diffusion_reference_only_without_control_pipeline import (\n",
    "    StableDiffusionReferenceOnlyWithoutControlPipeline,\n",
    ")\n",
    "from stable_diffusion_reference_only.models.unet_2d_dobule_condition import (\n",
    "    UNet2DDobuleConditionModel,\n",
    ")\n",
    "from diffusers.schedulers import DDPMScheduler\n",
    "import json"
   ]
  },
  {
   "cell_type": "code",
   "execution_count": null,
   "metadata": {},
   "outputs": [],
   "source": [
    "pretrained_unet_path = \"stabilityai/stable-diffusion-2-1\"\n",
    "pretrained_image_encoder_path = \"openai/clip-vit-large-patch14\"\n",
    "\n",
    "# unet_config_path = \"/home/aihao/workspace/StableDiffusionReferenceOnly/src/stable_diffusion_reference_only/models/unet_xl-base-1.0.json\"\n",
    "# pretrained_unet_path = \"stabilityai/stable-diffusion-xl-base-1.0\"\n",
    "# pretrained_image_encoder_path = \"laion/CLIP-ViT-bigG-14-laion2B-39B-b160k\""
   ]
  },
  {
   "cell_type": "code",
   "execution_count": null,
   "metadata": {},
   "outputs": [],
   "source": [
    "unet = UNet2DConditionModel.from_pretrained(pretrained_unet_path, subfolder=\"unet\")"
   ]
  },
  {
   "cell_type": "code",
   "execution_count": null,
   "metadata": {},
   "outputs": [],
   "source": [
    "# vae = diffusers.AutoencoderKL.from_pretrained(\"stabilityai/sdxl-vae\")\n",
    "vae = diffusers.AutoencoderKL.from_pretrained(\n",
    "    \"stabilityai/stable-diffusion-2-1\", subfolder=\"vae\"\n",
    ")"
   ]
  },
  {
   "cell_type": "code",
   "execution_count": null,
   "metadata": {},
   "outputs": [],
   "source": [
    "image_encoder = CLIPVisionModel.from_pretrained(pretrained_image_encoder_path)"
   ]
  },
  {
   "cell_type": "code",
   "execution_count": null,
   "metadata": {},
   "outputs": [],
   "source": [
    "clip_image_processor = CLIPImageProcessor.from_pretrained(pretrained_image_encoder_path)"
   ]
  },
  {
   "cell_type": "code",
   "execution_count": null,
   "metadata": {},
   "outputs": [],
   "source": [
    "scheduler = DDPMScheduler.from_pretrained(pretrained_unet_path, subfolder=\"scheduler\")"
   ]
  },
  {
   "cell_type": "code",
   "execution_count": null,
   "metadata": {},
   "outputs": [],
   "source": [
    "pipe = StableDiffusionReferenceOnlyWithoutControlPipeline(\n",
    "    vae,\n",
    "    image_encoder,\n",
    "    clip_image_processor,\n",
    "    unet,\n",
    "    scheduler,\n",
    ")"
   ]
  },
  {
   "cell_type": "code",
   "execution_count": null,
   "metadata": {},
   "outputs": [],
   "source": [
    "pipe.save_pretrained(\n",
    "    \"../../DeepLearningContent/models/sd_reference_only_without_control/sd-2-1-init\"\n",
    ")"
   ]
  },
  {
   "cell_type": "code",
   "execution_count": null,
   "metadata": {},
   "outputs": [],
   "source": [
    "pipe = StableDiffusionReferenceOnlyWithoutControlPipeline.from_pretrained(\n",
    "    \"../../DeepLearningContent/models/sd_reference_only_without_control/sd-2-1-init\"\n",
    ")"
   ]
  },
  {
   "cell_type": "code",
   "execution_count": null,
   "metadata": {},
   "outputs": [],
   "source": [
    "pipe(Image.open(\"../validation_images/1/1.png\")).images[0]"
   ]
  },
  {
   "cell_type": "code",
   "execution_count": null,
   "metadata": {},
   "outputs": [],
   "source": []
  }
 ],
 "metadata": {
  "kernelspec": {
   "display_name": "torch",
   "language": "python",
   "name": "python3"
  },
  "language_info": {
   "codemirror_mode": {
    "name": "ipython",
    "version": 3
   },
   "file_extension": ".py",
   "mimetype": "text/x-python",
   "name": "python",
   "nbconvert_exporter": "python",
   "pygments_lexer": "ipython3",
   "version": "3.11.4"
  },
  "orig_nbformat": 4
 },
 "nbformat": 4,
 "nbformat_minor": 2
}
