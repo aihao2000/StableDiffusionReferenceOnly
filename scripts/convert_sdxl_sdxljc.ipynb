{
 "cells": [
  {
   "cell_type": "code",
   "execution_count": 1,
   "metadata": {},
   "outputs": [],
   "source": [
    "import os\n",
    "os.chdir(\"/home/aihao/workspace/StableDiffusionImageTextJointControl\")"
   ]
  },
  {
   "cell_type": "code",
   "execution_count": 2,
   "metadata": {},
   "outputs": [],
   "source": [
    "import diffusers\n",
    "import transformers\n",
    "import torch\n",
    "from pipelines.StableDiffusionXLJointControlPipeline import (\n",
    "    StableDiffusionXLJointControlPipeline,\n",
    ")"
   ]
  },
  {
   "cell_type": "code",
   "execution_count": 3,
   "metadata": {},
   "outputs": [
    {
     "data": {
      "application/vnd.jupyter.widget-view+json": {
       "model_id": "d677b7c45e0345858f9f413a8c9c7b36",
       "version_major": 2,
       "version_minor": 0
      },
      "text/plain": [
       "Loading pipeline components...:   0%|          | 0/7 [00:00<?, ?it/s]"
      ]
     },
     "metadata": {},
     "output_type": "display_data"
    }
   ],
   "source": [
    "sdxl = diffusers.StableDiffusionXLPipeline.from_pretrained(\n",
    "    \"stabilityai/stable-diffusion-xl-base-1.0\",\n",
    ")"
   ]
  },
  {
   "cell_type": "code",
   "execution_count": 4,
   "metadata": {},
   "outputs": [],
   "source": [
    "image_clip_processor = transformers.CLIPImageProcessor.from_pretrained(\n",
    "    \"openai/clip-vit-large-patch14\"\n",
    ")"
   ]
  },
  {
   "cell_type": "code",
   "execution_count": 5,
   "metadata": {},
   "outputs": [],
   "source": [
    "image_encoder=transformers.CLIPVisionModelWithProjection.from_pretrained(\"openai/clip-vit-large-patch14\")"
   ]
  },
  {
   "cell_type": "code",
   "execution_count": 6,
   "metadata": {},
   "outputs": [
    {
     "data": {
      "application/vnd.jupyter.widget-view+json": {
       "model_id": "14932a033a43470bafccbc7959bb5699",
       "version_major": 2,
       "version_minor": 0
      },
      "text/plain": [
       "Loading checkpoint shards:   0%|          | 0/2 [00:00<?, ?it/s]"
      ]
     },
     "metadata": {},
     "output_type": "display_data"
    }
   ],
   "source": [
    "image_encoder_2=transformers.CLIPVisionModelWithProjection.from_pretrained(\"/home/aihao/workspace/DeepLearningContent/models/clip/CLIP-ViT-bigG-14-laion2B-39B-b160k\")"
   ]
  },
  {
   "cell_type": "code",
   "execution_count": 7,
   "metadata": {},
   "outputs": [],
   "source": [
    "image_clip_processor_2=transformers.CLIPImageProcessor.from_pretrained(\"/home/aihao/workspace/DeepLearningContent/models/clip/CLIP-ViT-bigG-14-laion2B-39B-b160k\")"
   ]
  },
  {
   "cell_type": "code",
   "execution_count": 8,
   "metadata": {},
   "outputs": [],
   "source": [
    "pipe = StableDiffusionXLJointControlPipeline(\n",
    "    sdxl.vae,\n",
    "    sdxl.text_encoder,\n",
    "    sdxl.text_encoder_2,\n",
    "    sdxl.tokenizer,\n",
    "    sdxl.tokenizer_2,\n",
    "    image_encoder,\n",
    "    image_encoder_2,\n",
    "    image_clip_processor,\n",
    "    image_clip_processor_2,\n",
    "    sdxl.unet,\n",
    "    sdxl.scheduler,\n",
    ")"
   ]
  },
  {
   "cell_type": "code",
   "execution_count": 9,
   "metadata": {},
   "outputs": [],
   "source": [
    "pipe.save_pretrained(\"/home/aihao/workspace/DeepLearningContent/models/sdxl_jc/sdxljc-base-1.0\")"
   ]
  },
  {
   "cell_type": "code",
   "execution_count": null,
   "metadata": {},
   "outputs": [],
   "source": []
  }
 ],
 "metadata": {
  "kernelspec": {
   "display_name": "torch",
   "language": "python",
   "name": "python3"
  },
  "language_info": {
   "codemirror_mode": {
    "name": "ipython",
    "version": 3
   },
   "file_extension": ".py",
   "mimetype": "text/x-python",
   "name": "python",
   "nbconvert_exporter": "python",
   "pygments_lexer": "ipython3",
   "version": "3.11.4"
  },
  "orig_nbformat": 4
 },
 "nbformat": 4,
 "nbformat_minor": 2
}
